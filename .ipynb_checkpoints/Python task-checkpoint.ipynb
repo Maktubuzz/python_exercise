{
 "cells": [
  {
   "cell_type": "code",
   "execution_count": null,
   "metadata": {},
   "outputs": [],
   "source": [
    "#3-7\n",
    "#print string solution,\n",
    "\n",
    "# Write a Python program to print the following string in a specific format (see the output). Go to the editor\n",
    "# Sample String : \"Twinkle, twinkle, little star, How I wonder what you are! Up above the world so high, Like a diamond in the sky. Twinkle, twinkle, little star, How I wonder what you are\" \n",
    "# Output :\n",
    "# Twinkle, twinkle, little star,\n",
    "#     How I wonder what you are! \n",
    "#         Up above the world so high,\n",
    "#         Like a diamond in the sky. \n",
    "# Twinkle, twinkle, little star, \n",
    "#     How I wonder what you are\n",
    "# ----------------------------------------------------\n",
    "\n",
    "print(\"Twinkle, twinkle, little star,\")\n",
    "print(\"    How I wonder what you are!\")\n",
    "print(\"        Up above the world so high,\")\n",
    "print(\"        Like a diamond in the sky.\")\n",
    "print(\"Twinkle, twinkle, little star,\")\n",
    "print(\"    How I wonder what you are\")"
   ]
  },
  {
   "cell_type": "code",
   "execution_count": 3,
   "metadata": {},
   "outputs": [
    {
     "name": "stdout",
     "output_type": "stream",
     "text": [
      "Twinkle, twinkle, little star, \n",
      "\tHow I wonder what you are! \n",
      "\t\tUp above the world so high, \n",
      "\t\tLike a diamond in the sky. \n",
      "Twinkle, twinkle, little star, \n",
      "\tHow I wonder what you are\n"
     ]
    }
   ],
   "source": [
    "#the correct answer\n",
    "print(\"Twinkle, twinkle, little star, \\n\\tHow I wonder what you are! \\n\\t\\tUp above the world so high, \\n\\t\\tLike a diamond in the sky. \\nTwinkle, twinkle, little star, \\n\\tHow I wonder what you are\" )\n"
   ]
  },
  {
   "cell_type": "code",
   "execution_count": 1,
   "metadata": {},
   "outputs": [
    {
     "name": "stdout",
     "output_type": "stream",
     "text": [
      "Please enter your name: Ti\n",
      "Please enter your age: 29\n",
      "Ti, you will be 100 years old in 2089\n"
     ]
    }
   ],
   "source": [
    "#3-9\n",
    "#input age\n",
    "\n",
    "# Create a program that asks the user to enter their name and their age.\n",
    "# Print out a message addressed to them that tells them the year that they will turn 100 years old.\n",
    "import datetime\n",
    "a = input(\"Please enter your name: \")\n",
    "b = input(\"Please enter your age: \")\n",
    "c = datetime.datetime.now().year\n",
    "d = c - int(b) + 100\n",
    "print(str(a)+ \", you will be 100 years old in \" + str(d) )"
   ]
  },
  {
   "cell_type": "code",
   "execution_count": null,
   "metadata": {},
   "outputs": [],
   "source": [
    "# 3-11\n",
    "# calculate with input\n",
    "\n",
    "# Write a Python program that accepts an integer (n) and computes the value of n+nn+nnn. Go to the editor\n",
    "# Sample value of n is 5 \n",
    "# Expected Result : 615\n",
    "\n",
    "a = input(\"Please enter a number: \")\n",
    "b = int(a) + int(a+a) + int(a+a+a)\n",
    "print(b)\n"
   ]
  },
  {
   "cell_type": "code",
   "execution_count": 3,
   "metadata": {},
   "outputs": [
    {
     "name": "stdout",
     "output_type": "stream",
     "text": [
      "Input number of rows: 3\n",
      "Input number of columns: 4\n",
      "[[0, 0, 0, 0], [0, 1, 2, 3], [0, 2, 4, 6]]\n"
     ]
    }
   ],
   "source": [
    "# 4-13\n",
    "# 2 dimensional array\n",
    "\n",
    "# Write a Python program which takes two digits m (row) and n (column) as input and generates a two-dimensional array. \n",
    "# The element value in the i-th row and j-th column of the array should be i*j.\n",
    "# Note :\n",
    "# i = 0,1.., m-1 \n",
    "# j = 0,1, n-1.\n",
    "# Input\n",
    "# Input number of rows: 3                                                                                       \n",
    "# Input number of columns: 4  \n",
    "# Output\n",
    "# [[0, 0, 0, 0], [0, 1, 2, 3], [0, 2, 4, 6]] \n",
    "\n",
    "row = int(input(\"Input number of rows: \"))\n",
    "col = int(input(\"Input number of columns: \"))\n",
    "matrix = [[0] * col for i in range(row)]\n",
    "for i in range(row):\n",
    "    for j in range(col):\n",
    "        matrix[i][j] = i*j\n",
    "print(matrix)"
   ]
  },
  {
   "cell_type": "code",
   "execution_count": 16,
   "metadata": {},
   "outputs": [
    {
     "name": "stdout",
     "output_type": "stream",
     "text": [
      "Enter side length 1: 3\n",
      "Enter side length 2: 4\n",
      "Enter side length 3: 11\n",
      "It's a not triangle.\n"
     ]
    }
   ],
   "source": [
    "# 4-15\n",
    "# Write a Python program to check a triangle is valid or not\n",
    "\n",
    "side1 = int(input(\"Enter side length 1: \"))\n",
    "side2 = int(input(\"Enter side length 2: \"))\n",
    "side3 = int(input(\"Enter side length 3: \"))\n",
    "\n",
    "if side1 + side2 <= side3 or side1 + side3 <= side2 or side2 + side3 <= side1:\n",
    "    print(\"It's a not triangle.\")\n",
    "else:\n",
    "    print(\"It's a triangle.\")"
   ]
  },
  {
   "cell_type": "code",
   "execution_count": 21,
   "metadata": {},
   "outputs": [
    {
     "name": "stdout",
     "output_type": "stream",
     "text": [
      "Enter side length 1: 3\n",
      "Enter side length 2: 4\n",
      "Enter side length 3: 5\n",
      "It's a triangle\n"
     ]
    }
   ],
   "source": [
    "# 4-15\n",
    "# Rewrite by the suggested solution\n",
    "\n",
    "def triangleOrNot(l1, l2, l3):\n",
    "    if (l1 > l2 + l3) or (l2 > l1 + l3) or (l3 > l1 + l2):\n",
    "        print(\"It's not a triangle.\")\n",
    "    elif (l1 == l2 + l3) or (l2 == l1 + l3) or (l3 == l1 + l2):\n",
    "        print(\"It's a degenerated triangle.\")\n",
    "    else:\n",
    "        print(\"It's a triangle\")\n",
    "        \n",
    "l1 = int(input(\"Enter side length 1: \"))\n",
    "l2 = int(input(\"Enter side length 2: \"))\n",
    "l3 = int(input(\"Enter side length 3: \"))\n",
    "\n",
    "triangleOrNot(l1, l2, l3)"
   ]
  },
  {
   "cell_type": "code",
   "execution_count": 114,
   "metadata": {
    "scrolled": false
   },
   "outputs": [
    {
     "name": "stdout",
     "output_type": "stream",
     "text": [
      "1\n",
      "22\n",
      "333\n",
      "4444\n",
      "55555\n",
      "666666\n",
      "7777777\n",
      "88888888\n",
      "999999999\n"
     ]
    }
   ],
   "source": [
    "# 4-17\n",
    "# construct number partern\n",
    "\n",
    "# Write a Python program to construct the following pattern, using a nested loop number.\n",
    "# 1                                                                                                             \n",
    "# 22                                                                                                            \n",
    "# 333                                                                                                           \n",
    "# 4444                                                                                                          \n",
    "# 55555                                                                                                         \n",
    "# 666666                                                                                                        \n",
    "# 7777777                                                                                                       \n",
    "# 88888888                                                                                                      \n",
    "# 999999999  \n",
    "\n",
    "\"\"\"\n",
    "def sumOfPowers(n):\n",
    "    z = 1\n",
    "    for i in range(n):\n",
    "        if i == 0:\n",
    "            print(1)\n",
    "        else:\n",
    "            z += (10 ** i)\n",
    "            startFrom = z * (i + 1)\n",
    "            print(startFrom)\n",
    "sumOfPowers(9)\n",
    "\"\"\"\n",
    "\n",
    "def test(n):\n",
    "    x = 0\n",
    "    i = 0\n",
    "    while i < n:\n",
    "        x += (10 ** i)\n",
    "        i = i + 1\n",
    "        a = x * i\n",
    "        print(a)\n",
    "test(9)    \n"
   ]
  },
  {
   "cell_type": "code",
   "execution_count": 102,
   "metadata": {},
   "outputs": [
    {
     "name": "stdout",
     "output_type": "stream",
     "text": [
      "\n",
      "1\n",
      "22\n",
      "333\n",
      "4444\n",
      "55555\n",
      "666666\n",
      "7777777\n",
      "88888888\n",
      "999999999\n"
     ]
    }
   ],
   "source": [
    "# 4-17\n",
    "# Rewrite by the suggested solution\n",
    "for i in range(10):\n",
    "    print(str(i) * i)"
   ]
  },
  {
   "cell_type": "code",
   "execution_count": 169,
   "metadata": {},
   "outputs": [
    {
     "name": "stdout",
     "output_type": "stream",
     "text": [
      "*\n",
      "**\n",
      "***\n",
      "****\n",
      "*****\n",
      "****\n",
      "***\n",
      "**\n",
      "*\n"
     ]
    }
   ],
   "source": [
    "# 4-19\n",
    "# construct parttern\n",
    "\n",
    "#  Write a Python program to construct the following pattern, using a nested for loop.\n",
    "# * \n",
    "# * * \n",
    "# * * * \n",
    "# * * * * \n",
    "# * * * * * \n",
    "# * * * * \n",
    "# * * * \n",
    "# * * \n",
    "# *\n",
    "\n",
    "def pyramid(n):\n",
    "    x = (2*n)\n",
    "    for i in range(1, x):\n",
    "        if i <= x/2:\n",
    "            print(\"*\" * i)\n",
    "        else:\n",
    "            a = x - i\n",
    "            print(\"*\" * a)  \n",
    "pyramid(5)\n",
    "\n"
   ]
  },
  {
   "cell_type": "code",
   "execution_count": 175,
   "metadata": {
    "scrolled": true
   },
   "outputs": [
    {
     "ename": "IndentationError",
     "evalue": "unexpected indent (<ipython-input-175-cc241a501627>, line 9)",
     "output_type": "error",
     "traceback": [
      "\u001b[0;36m  File \u001b[0;32m\"<ipython-input-175-cc241a501627>\"\u001b[0;36m, line \u001b[0;32m9\u001b[0m\n\u001b[0;31m    for j in range(i):\u001b[0m\n\u001b[0m    ^\u001b[0m\n\u001b[0;31mIndentationError\u001b[0m\u001b[0;31m:\u001b[0m unexpected indent\n"
     ]
    }
   ],
   "source": [
    "# 4-19\n",
    "# Rewrite by the answer\n",
    "n=5;\n",
    "for i in range(n):\n",
    "    for j in range(i):\n",
    "        print ('* ', end=\"\")\n",
    "    print('')\n",
    "for i in range(n,0,-1):ㄌ\n",
    "    for j in range(i):\n",
    "        print('* ', end=\"\")\n",
    "    print('')"
   ]
  },
  {
   "cell_type": "code",
   "execution_count": 179,
   "metadata": {},
   "outputs": [
    {
     "name": "stdout",
     "output_type": "stream",
     "text": [
      "Sample Data: \"Python 3.2\"\n",
      "Letters  6\n",
      "Digits  2\n"
     ]
    }
   ],
   "source": [
    "# 4-21\n",
    "\n",
    "# Write a Python program that accepts a string and calculate the number of digits and letters\n",
    "# Sample Data : \"Python 3.2\"\n",
    "# Expected Output :\n",
    "# Letters 6 \n",
    "# Digits 2\n",
    "\n",
    "def counting_number():\n",
    "    letters = digits = other = 0\n",
    "    word = input(\"Sample Data: \")\n",
    "    for i in word:\n",
    "        if i.isdigit():\n",
    "            digits += 1\n",
    "        elif i.isalpha():\n",
    "            letters += 1\n",
    "        else:\n",
    "            other += 1\n",
    "    print(\"Letters \", letters)\n",
    "    print(\"Digits \" ,digits)\n",
    "\n",
    "counting_number()\n"
   ]
  },
  {
   "cell_type": "code",
   "execution_count": 191,
   "metadata": {},
   "outputs": [
    {
     "name": "stdout",
     "output_type": "stream",
     "text": [
      "Number of even numbers :  4\n",
      "Number of odd numbers :  5\n"
     ]
    }
   ],
   "source": [
    "# 4-23\n",
    "# Count the number of even and odd numbers from a series of numbers\n",
    "# Input \n",
    "# numbers = (1, 2, 3, 4, 5, 6, 7, 8, 9) # Declaring the tuple\n",
    "# Output\n",
    "# Number of even numbers : 4                                                                                    \n",
    "# Number of odd numbers : 5 \n",
    "def counting_number():\n",
    "    numbers = (1, 2, 3, 4, 5, 6, 7, 8, 9)\n",
    "    even_number = odd_number = 0\n",
    "    for i in numbers:\n",
    "        if i == 0 or i == 1:\n",
    "            odd_number += 1\n",
    "        elif (i % 2) == 1:\n",
    "            odd_number += 1\n",
    "        elif (i % 2) == 0:\n",
    "            even_number += 1\n",
    "    print(\"Number of even numbers : \", even_number)\n",
    "    print(\"Number of odd numbers : \", odd_number)\n",
    "\n",
    "counting_number()"
   ]
  },
  {
   "cell_type": "code",
   "execution_count": 193,
   "metadata": {},
   "outputs": [
    {
     "name": "stdout",
     "output_type": "stream",
     "text": [
      "Number of even numbers : 4\n",
      "Number of odd numbers : 5\n"
     ]
    }
   ],
   "source": [
    "# 4-23\n",
    "# Answer\n",
    "numbers = (1, 2, 3, 4, 5, 6, 7, 8, 9) # Declaring the tuple\n",
    "count_odd = 0\n",
    "count_even = 0\n",
    "for x in numbers:\n",
    "    if not x % 2:\n",
    "        count_even+=1\n",
    "    else:\n",
    "        count_odd+=1\n",
    "                \n",
    "print(\"Number of even numbers :\",count_even)\n",
    "print(\"Number of odd numbers :\",count_odd)"
   ]
  },
  {
   "cell_type": "code",
   "execution_count": 208,
   "metadata": {},
   "outputs": [
    {
     "name": "stdout",
     "output_type": "stream",
     "text": [
      "0\n",
      "1\n",
      "1\n",
      "2\n",
      "3\n",
      "5\n",
      "8\n",
      "13\n",
      "21\n",
      "34\n",
      "55\n",
      "89\n",
      "144\n",
      "233\n",
      "377\n",
      "610\n",
      "987\n",
      "1597\n",
      "2584\n",
      "4181\n",
      "6765\n",
      "10946\n",
      "17711\n",
      "28657\n",
      "46368\n",
      "75025\n",
      "121393\n",
      "196418\n",
      "317811\n",
      "514229\n",
      "832040\n",
      "1346269\n",
      "2178309\n",
      "3524578\n",
      "5702887\n",
      "9227465\n",
      "14930352\n",
      "24157817\n",
      "39088169\n",
      "63245986\n",
      "102334155\n",
      "165580141\n",
      "267914296\n",
      "433494437\n",
      "701408733\n",
      "1134903170\n",
      "1836311903\n",
      "2971215073\n",
      "4807526976\n",
      "7778742049\n"
     ]
    }
   ],
   "source": [
    "# 4-25\n",
    "# Write a Python program to get the Fibonacci series between 0 to 50\n",
    "\n",
    "def Fibonacci_series():\n",
    "    n = m_1 = m_2 = 0\n",
    "    while n < 50:\n",
    "        if n == 0:\n",
    "            n += 1\n",
    "            m_1 += 1\n",
    "            print(0)\n",
    "        else:\n",
    "            n += 1\n",
    "            m_3 = m_2 + m_1\n",
    "            print(m_3)\n",
    "            m_1 = m_2\n",
    "            m_2 = m_3\n",
    "\n",
    "\n",
    "Fibonacci_series()"
   ]
  },
  {
   "cell_type": "code",
   "execution_count": 215,
   "metadata": {},
   "outputs": [
    {
     "name": "stdout",
     "output_type": "stream",
     "text": [
      "1\n",
      "1\n",
      "2\n",
      "3\n",
      "5\n",
      "8\n",
      "13\n",
      "21\n",
      "34\n"
     ]
    }
   ],
   "source": [
    "# 4-25\n",
    "# Write a Python program to get the Fibonacci series between 0 to 50\n",
    "\n",
    "x,y=0,1\n",
    "while y < 50:\n",
    "    print(y)\n",
    "    x,y = y,x+y\n",
    "    \n"
   ]
  },
  {
   "cell_type": "code",
   "execution_count": 229,
   "metadata": {},
   "outputs": [
    {
     "name": "stdout",
     "output_type": "stream",
     "text": [
      "1505\n",
      "1540\n",
      "1575\n",
      "1610\n",
      "1645\n",
      "1680\n",
      "1715\n",
      "1750\n",
      "1785\n",
      "1820\n",
      "1855\n",
      "1890\n",
      "1925\n",
      "1960\n",
      "1995\n",
      "2030\n",
      "2065\n",
      "2100\n",
      "2135\n",
      "2170\n",
      "2205\n",
      "2240\n",
      "2275\n",
      "2310\n",
      "2345\n",
      "2380\n",
      "2415\n",
      "2450\n",
      "2485\n",
      "2520\n",
      "2555\n",
      "2590\n",
      "2625\n",
      "2660\n",
      "2695\n"
     ]
    }
   ],
   "source": [
    "#  Write a Python program to find those numbers which are divisible by 7 and multiple of 5, between 1500 and 2700\n",
    "\n",
    "for i in range(1500,2701):\n",
    "    if not i % 7 and not i % 5:\n",
    "        print(i)"
   ]
  },
  {
   "cell_type": "code",
   "execution_count": null,
   "metadata": {},
   "outputs": [],
   "source": [
    "# Generate a random number between 1 and 9 (including 1 and 9).\n",
    "# Ask the user to guess the number, then tell them whether they guessed too low, too high, or exactly right. "
   ]
  }
 ],
 "metadata": {
  "kernelspec": {
   "display_name": "Python 3",
   "language": "python",
   "name": "python3"
  },
  "language_info": {
   "codemirror_mode": {
    "name": "ipython",
    "version": 3
   },
   "file_extension": ".py",
   "mimetype": "text/x-python",
   "name": "python",
   "nbconvert_exporter": "python",
   "pygments_lexer": "ipython3",
   "version": "3.6.5"
  }
 },
 "nbformat": 4,
 "nbformat_minor": 2
}
